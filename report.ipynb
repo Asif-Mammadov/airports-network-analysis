{
 "cells": [
  {
   "cell_type": "markdown",
   "metadata": {},
   "source": [
    "# Network Algorithms Homework\n",
    "By Asif Mammadov, Rustam Aliyev, Maryam Babayeva"
   ]
  },
  {
   "cell_type": "code",
   "execution_count": 1,
   "metadata": {},
   "outputs": [],
   "source": [
    "import numpy as np\n",
    "import pandas as pd\n",
    "import networkx as nx\n",
    "import matplotlib.pyplot as plt\n",
    "from geopy import distance\n",
    "from geopy import Point\n",
    "import utils\n",
    "import shortest_path"
   ]
  },
  {
   "cell_type": "code",
   "execution_count": 2,
   "metadata": {},
   "outputs": [],
   "source": [
    "# Obtain the data\n",
    "airports = pd.read_csv('airports.csv')\n",
    "routes = pd.read_csv('routes.csv')"
   ]
  },
  {
   "cell_type": "code",
   "execution_count": 3,
   "metadata": {},
   "outputs": [],
   "source": [
    "# returns all the information about an airport by its IATA\n",
    "def airport_info(data_airports, iata):\n",
    "    return data_airports.loc[data_airports['IATA'] == iata]\n",
    "def airport_name_from_iata(data_airports, iata):\n",
    "    return data_airports.loc[data_airports['IATA'] == iata]['Name'].iat[0]"
   ]
  },
  {
   "cell_type": "code",
   "execution_count": 4,
   "metadata": {},
   "outputs": [],
   "source": [
    "def filter_na(df, column):\n",
    "    na_rows = df[column].str.len() < 3\n",
    "    return df[~na_rows]\n",
    "\n",
    "# Filter the N/A values in the data\n",
    "filtered_airports = filter_na(airports, \"IATA\")\n",
    "filtered_routes = filter_na(routes, 'Source airport ID')\n",
    "filtered_routes = filter_na(filtered_routes, 'Destination airport ID')\n",
    "\n",
    "# change the datatype in routes\n",
    "filtered_routes['Source airport ID'] = filtered_routes['Source airport ID'].astype('int64')\n",
    "filtered_routes['Destination airport ID'] = filtered_routes['Destination airport ID'].astype('int64')"
   ]
  },
  {
   "cell_type": "code",
   "execution_count": 5,
   "metadata": {},
   "outputs": [],
   "source": [
    "def get_countries_of(region):\n",
    "    if (region == 'Europe'):\n",
    "        import requests\n",
    "        response = requests.get(\"https://restcountries.com/v3.1/region/europe\")\n",
    "        l = response.json()\n",
    "        europe = []\n",
    "        for i in range(len(l)):\n",
    "            europe.append(l[i]['name']['common'])\n",
    "        return europe\n",
    "    # future support for other regions\n",
    "\n",
    "def filter_to_europe(df, attr):\n",
    "    europe = get_countries_of('Europe')\n",
    "    return df[df[attr].isin(europe)]\n",
    "\n",
    "def filter_to_countries(df, countries):\n",
    "    return df[df['Country'].isin(countries)]\n",
    "\n",
    "# Choose only one region (europe in our example)\n",
    "filtered_european_airports = filter_to_europe(filtered_airports, 'Country')\n",
    "\n",
    "# Choose only one country (France in our example)\n",
    "filtered_some_airports = filter_to_countries(filtered_airports, ['France'])\n"
   ]
  },
  {
   "cell_type": "code",
   "execution_count": 6,
   "metadata": {},
   "outputs": [],
   "source": [
    "# Filter routes according to filtered airports\n",
    "airport_id = filtered_european_airports['Airport ID']\n",
    "filtered_european_routes = filtered_routes[filtered_routes['Source airport ID'].isin(airport_id) & filtered_routes['Destination airport ID'].isin(airport_id)]\n",
    "\n",
    "airport_id = filtered_some_airports['Airport ID']\n",
    "filtered_some_routes = filtered_routes[filtered_routes['Source airport ID'].isin(airport_id) & filtered_routes['Destination airport ID'].isin(airport_id)]"
   ]
  },
  {
   "cell_type": "code",
   "execution_count": 7,
   "metadata": {},
   "outputs": [],
   "source": [
    "def get_coords(airport_id, airports):\n",
    "    airport = airports.loc[airports['Airport ID'] == airport_id]\n",
    "    return (airport['Latitude'], airport['Longitude'])"
   ]
  },
  {
   "cell_type": "code",
   "execution_count": 8,
   "metadata": {},
   "outputs": [],
   "source": [
    "def add_coords_to_routes(routes, airports):\n",
    "    pd.options.mode.chained_assignment = None\n",
    "    sources_latitude = []\n",
    "    sources_longitude = []\n",
    "    destinations_latitude = []\n",
    "    destinations_longitude = []\n",
    "\n",
    "    for ind in routes.index:\n",
    "        source_coords = get_coords(routes.loc[ind, 'Source airport ID'], airports)\n",
    "        sources_latitude.append(source_coords[0].to_string().split(' ')[-1])\n",
    "        sources_longitude.append(source_coords[1].to_string().split(' ')[-1])\n",
    "\n",
    "        destination_coords = get_coords(routes.loc[ind, 'Destination airport ID'], airports)\n",
    "        destinations_latitude.append(destination_coords[0].to_string().split(' ')[-1])\n",
    "        destinations_longitude.append(destination_coords[1].to_string().split(' ')[-1])\n",
    "    \n",
    "    routes.loc[:, 'Source latitude'] = sources_latitude\n",
    "    routes.loc[:, 'Source longitude'] = sources_longitude\n",
    "    routes.loc[:, 'Destination latitude'] = destinations_latitude\n",
    "    routes.loc[:, 'Destination longitude'] = destinations_longitude\n",
    "\n",
    "    return routes"
   ]
  },
  {
   "cell_type": "code",
   "execution_count": 9,
   "metadata": {},
   "outputs": [],
   "source": [
    "# modified_routes = add_coords_to_routes(filtered_european_routes, filtered_european_airports)\n",
    "\n",
    "modified_some_routes = add_coords_to_routes(filtered_some_routes, filtered_some_airports)"
   ]
  },
  {
   "cell_type": "code",
   "execution_count": 10,
   "metadata": {},
   "outputs": [],
   "source": [
    "def get_dists(routes):\n",
    "    return routes.apply(\n",
    "        lambda row:\n",
    "            distance.distance(\n",
    "                (row['Source latitude'], row['Source longitude']),\n",
    "                (row['Destination latitude'], row['Destination longitude'])\n",
    "            ).km,\n",
    "        axis = 1\n",
    "    )"
   ]
  },
  {
   "cell_type": "code",
   "execution_count": 11,
   "metadata": {},
   "outputs": [],
   "source": [
    "# dist = get_dists(modified_routes)\n",
    "dist_some = get_dists(modified_some_routes)\n",
    "\n",
    "# array dist is an array of all the distances between sources and destinations that should be created and filled by Rustam\n",
    "# once it's filled a new data frame with the Source, Destination and Distance values will be created\n",
    "# distances = pd.Series(dist, name = 'Distance')\n",
    "distances_some = pd.Series(dist_some, name = 'Distance')\n",
    "# data = [filtered_european_routes['Source airport'].reset_index(drop=True),filtered_european_routes['Destination airport'].reset_index(drop=True), distances.reset_index(drop=True)]\n",
    "data_some = [filtered_some_routes['Source airport'].reset_index(drop=True),filtered_some_routes['Destination airport'].reset_index(drop=True), distances_some.reset_index(drop=True)]\n",
    "\n",
    "# new DataFrame only with the Source, Destination and Distance values\n",
    "# df = pd.DataFrame(data).T\n",
    "df_some = pd.DataFrame(data_some).T\n",
    "# print(df)"
   ]
  },
  {
   "cell_type": "code",
   "execution_count": 12,
   "metadata": {},
   "outputs": [
    {
     "name": "stdout",
     "output_type": "stream",
     "text": [
      "['AGF', 'AJA', 'ANG', 'AUR', 'AVN', 'BES', 'BIA', 'BIQ', 'BOD', 'BSL', 'BVA', 'BVE', 'BZR', 'CDG', 'CFE', 'CFR', 'CLY', 'DCM', 'DIJ', 'EBU', 'EGC', 'ETZ', 'FSC', 'LAI', 'LDE', 'LEH', 'LIG', 'LIL', 'LPY', 'LRH', 'LRT', 'LYS', 'MPL', 'MRS', 'NCE', 'NTE', 'ORY', 'PGF', 'PGX', 'PIS', 'PUF', 'RDZ', 'RNS', 'SXB', 'TLN', 'TLS', 'TUF', 'UIP']\n"
     ]
    },
    {
     "data": {
      "image/png": "[encoded data removed]",
      "text/plain": [
       "<Figure size 432x288 with 1 Axes>"
      ]
     },
     "metadata": {},
     "output_type": "display_data"
    }
   ],
   "source": [
    "#Creating a graph from the filtered european routes\n",
    "# G = nx.from_pandas_edgelist(df, source='Source airport', target='Destination airport', edge_attr=True, create_using=nx.DiGraph)\n",
    "G = nx.from_pandas_edgelist(df_some, source='Source airport', target='Destination airport', edge_attr=True, create_using=nx.DiGraph)\n",
    "nx.draw(G, with_labels=True)\n",
    "\n",
    "print(sorted(G.nodes()))"
   ]
  },
  {
   "cell_type": "code",
   "execution_count": 13,
   "metadata": {},
   "outputs": [
    {
     "name": "stdout",
     "output_type": "stream",
     "text": [
      "Network Density =  0.2765957446808511\n"
     ]
    }
   ],
   "source": [
    "# Network Density\n",
    "network_densit = utils.network_density(G)\n",
    "print(\"Network Density = \", network_densit)"
   ]
  },
  {
   "cell_type": "code",
   "execution_count": 14,
   "metadata": {},
   "outputs": [],
   "source": [
    "# Network Diameter\n",
    "m_path = utils.max_path(utils.get_all_pathes(G, 'Distance'))\n",
    "network_diam = utils.network_diameter(G, 'Distance')\n",
    "print(\"Network Diameter = %d\\nMax path : %s\" % (network_diam, m_path))"
   ]
  },
  {
   "cell_type": "code",
   "execution_count": null,
   "metadata": {},
   "outputs": [
    {
     "name": "stdout",
     "output_type": "stream",
     "text": [
      "Network Average Path Length = 3.19\n"
     ]
    }
   ],
   "source": [
    "# Network Average Path Length\n",
    "napl = utils.network_average_path_length(G, 'Distance')\n",
    "print(\"Network Average Path Length = %.2f\" % napl)"
   ]
  },
  {
   "cell_type": "code",
   "execution_count": null,
   "metadata": {},
   "outputs": [
    {
     "name": "stdout",
     "output_type": "stream",
     "text": [
      "{'AGF': 2.38, 'DCM': 2.15, 'ORY': 1.21, 'AJA': 1.56, 'BVE': 2.17, 'PIS': 2.38, 'AUR': 2.12, 'BES': 1.81, 'LYS': 1.44, 'NCE': 1.54, 'BIA': 1.79, 'LIL': 1.98, 'BIQ': 1.83, 'BOD': 1.62, 'NTE': 1.6, 'SXB': 1.69, 'CFE': 1.94, 'CFR': 2.02, 'CLY': 2.06, 'ETZ': 2.17, 'FSC': 2.02, 'LAI': 2.12, 'LDE': 2.12, 'MPL': 1.9, 'TLS': 1.65, 'LRH': 2.44, 'LRT': 2.08, 'MRS': 1.58, 'PUF': 1.92, 'RNS': 2.15, 'PGF': 2.04, 'RDZ': 2.12, 'UIP': 2.12, 'CDG': 1.9, 'EBU': 2.71, 'BSL': 2.19, 'TLN': 2.12, 'AVN': 2.6, 'LIG': 1.9, 'BVA': 0.02, 'BZR': 0.02, 'TUF': 2.5, 'ANG': 2.94, 'DIJ': 2.56, 'EGC': 3.0, 'PGX': 2.08, 'LEH': 2.35, 'LPY': 2.12}\n",
      "Max closeness: 3.00 EGC Bergerac-Roumanière Airport\n",
      "Min closeness: 0.02 BVA Paris Beauvais Tillé Airport\n",
      "Average closeness: 1.97\n"
     ]
    }
   ],
   "source": [
    "\n",
    "#Closeness Centrality of Airport\n",
    "closeness_c = {}\n",
    "for airport in G.nodes():\n",
    "  closeness_c[airport] = round(utils.closeness_centrality(G, airport, 'Distance'), 2)\n",
    "# print(\"Closeness Centrality of Frankfurt Airport: \", cc_FRA)\n",
    "print(closeness_c)\n",
    "\n",
    "max_closeness = max(closeness_c.keys(), key=(lambda k: closeness_c[k]))\n",
    "min_closeness = min(closeness_c.keys(), key=(lambda k: closeness_c[k]))\n",
    "\n",
    "print(\"Max closeness: %.2f %s %s\" % (closeness_c[max_closeness], max_closeness,airport_name_from_iata(filtered_european_airports, max_closeness)))\n",
    "print(\"Min closeness: %.2f %s %s\" % (closeness_c[min_closeness], min_closeness,airport_name_from_iata(filtered_european_airports, min_closeness)))\n",
    "print(\"Average closeness: %.2f\" % (sum(value for value in closeness_c.values())/len(closeness_c.values())))\n",
    "# print(\"Min closeness: %s %s\" % )"
   ]
  },
  {
   "cell_type": "markdown",
   "metadata": {},
   "source": [
    "We conclude that Bergerac-Roumanière Airport is the farthest and Paris Beauvais Tillé Airport is the closest among the airports in France."
   ]
  },
  {
   "cell_type": "code",
   "execution_count": null,
   "metadata": {},
   "outputs": [
    {
     "name": "stdout",
     "output_type": "stream",
     "text": [
      "{'AGF': [4, 2, 2], 'DCM': [6, 3, 3], 'ORY': [64, 32, 32], 'AJA': [36, 18, 18], 'BVE': [4, 2, 2], 'PIS': [6, 3, 3], 'AUR': [2, 1, 1], 'BES': [16, 8, 8], 'LYS': [46, 23, 23], 'NCE': [40, 20, 20], 'BIA': [24, 12, 12], 'LIL': [24, 12, 12], 'BIQ': [14, 7, 7], 'BOD': [30, 15, 15], 'NTE': [32, 16, 16], 'SXB': [24, 12, 12], 'CFE': [8, 4, 4], 'CFR': [8, 4, 4], 'CLY': [12, 6, 6], 'ETZ': [8, 4, 4], 'FSC': [14, 7, 7], 'LAI': [2, 1, 1], 'LDE': [2, 1, 1], 'MPL': [16, 8, 8], 'TLS': [28, 14, 14], 'LRH': [4, 2, 2], 'LRT': [4, 2, 2], 'MRS': [36, 18, 18], 'PUF': [8, 4, 4], 'RNS': [12, 6, 6], 'PGF': [4, 2, 2], 'RDZ': [2, 1, 1], 'UIP': [2, 1, 1], 'CDG': [32, 16, 16], 'EBU': [2, 1, 1], 'BSL': [14, 7, 7], 'TLN': [2, 1, 1], 'AVN': [4, 2, 2], 'LIG': [8, 4, 4], 'BVA': [2, 1, 1], 'BZR': [2, 1, 1], 'TUF': [2, 1, 1], 'ANG': [2, 1, 1], 'DIJ': [2, 1, 1], 'EGC': [2, 1, 1], 'PGX': [4, 2, 2], 'LEH': [2, 1, 1], 'LPY': [2, 1, 1]}\n",
      "\n",
      "Max degree: 64 ORY Paris-Orly Airport\n",
      "Min degree: 2 AUR Aurillac Airport\n",
      "Average degree:  13.0\n",
      "Max inflow: 32 ORY Paris-Orly Airport\n",
      "Min inflow: 1 AUR Aurillac Airport\n",
      "Average inflow:  6.5\n",
      "Max outflow: 32 ORY Paris-Orly Airport\n",
      "Min outflow: 1 AUR Aurillac Airport\n",
      "Average outflow:  6.5\n"
     ]
    }
   ],
   "source": [
    "\n",
    "degrees = {}\n",
    "for airport in G.nodes():\n",
    "  degree = utils.degree(G, airport)\n",
    "  inflow = utils.degree_inflow(G, airport)\n",
    "  outflow = utils.degree_outflow(G, airport)\n",
    "  degrees[airport] = [degree, inflow, outflow]\n",
    "\n",
    "print(degrees, end='\\n\\n')\n",
    "\n",
    "max_degree = max(degrees.keys(), key=(lambda k: degrees[k][0]))\n",
    "min_degree = min(degrees.keys(), key=(lambda k: degrees[k][0]))\n",
    "print(\"Max degree: %d %s %s\" % (degrees[max_degree][0], max_degree,airport_name_from_iata(filtered_european_airports, max_degree)))\n",
    "print(\"Min degree: %d %s %s\" % (degrees[min_degree][0], min_degree,airport_name_from_iata(filtered_european_airports, min_degree)))\n",
    "print(\"Average degree: \", sum(value[0] for value in degrees.values())/len(degrees.values()))\n",
    "\n",
    "max_inflow = max(degrees.keys(), key=(lambda k: degrees[k][1]))\n",
    "min_inflow = min(degrees.keys(), key=(lambda k: degrees[k][1]))\n",
    "print(\"Max inflow: %d %s %s\" % (degrees[max_inflow][1], max_inflow,airport_name_from_iata(filtered_european_airports, max_inflow)))\n",
    "print(\"Min inflow: %d %s %s\" % (degrees[min_inflow][1], min_inflow,airport_name_from_iata(filtered_european_airports, min_inflow)))\n",
    "print(\"Average inflow: \", sum(value[1] for value in degrees.values())/len(degrees.values()))\n",
    "\n",
    "max_outflow = max(degrees.keys(), key=(lambda k: degrees[k][2]))\n",
    "min_outflow = min(degrees.keys(), key=(lambda k: degrees[k][2]))\n",
    "print(\"Max outflow: %d %s %s\" % (degrees[max_outflow][2], max_outflow,airport_name_from_iata(filtered_european_airports, max_outflow)))\n",
    "print(\"Min outflow: %d %s %s\" % (degrees[min_outflow][2], min_outflow,airport_name_from_iata(filtered_european_airports, min_outflow)))\n",
    "print(\"Average outflow: \", sum(value[2] for value in degrees.values())/len(degrees.values()))\n"
   ]
  },
  {
   "cell_type": "code",
   "execution_count": null,
   "metadata": {},
   "outputs": [
    {
     "name": "stdout",
     "output_type": "stream",
     "text": [
      "{'AGF': 90, 'DCM': 112, 'ORY': 1094, 'AJA': 176, 'BVE': 90, 'PIS': 132, 'AUR': 90, 'BES': 90, 'LYS': 454, 'NCE': 284, 'BIA': 178, 'LIL': 90, 'BIQ': 90, 'BOD': 128, 'NTE': 140, 'SXB': 120, 'CFE': 118, 'CFR': 90, 'CLY': 98, 'ETZ': 90, 'FSC': 178, 'LAI': 90, 'LDE': 90, 'MPL': 90, 'TLS': 178, 'LRH': 126, 'LRT': 90, 'MRS': 236, 'PUF': 90, 'RNS': 90, 'PGF': 90, 'RDZ': 90, 'UIP': 90, 'CDG': 108, 'EBU': 90, 'BSL': 90, 'TLN': 90, 'AVN': 92, 'LIG': 146, 'BVA': 2, 'BZR': 2, 'TUF': 90, 'ANG': 90, 'DIJ': 90, 'EGC': 90, 'PGX': 178, 'LEH': 90, 'LPY': 90}\n",
      "Max betweenness: 1094 ORY Paris-Orly Airport | 22.79 percent of all pathes\n",
      "Min betweenness: 2 BVA Paris Beauvais Tillé Airport | 0.04 percent of all pathes\n",
      "Average betweenness: 137.92\n"
     ]
    }
   ],
   "source": [
    "\n",
    "#Between Centrality of Airport\n",
    "between_c = {}\n",
    "pathes = utils.get_all_pathes(G, 'Distance')\n",
    "\n",
    "for airport in G.nodes():\n",
    "  between_c[airport] = utils.between_centrality(G, airport, pathes)\n",
    "\n",
    "print(between_c)\n",
    "total_between = sum(value for value in between_c.values())\n",
    "length_between = len(between_c.values())\n",
    "max_between = max(between_c.keys(), key=(lambda k: between_c[k]))\n",
    "min_between = min(between_c.keys(), key=(lambda k: between_c[k]))\n",
    "\n",
    "\n",
    "print(\"Max betweenness: %d %s %s | %.2f percent of all pathes\" % (between_c[max_between], max_between,airport_name_from_iata(filtered_european_airports, max_between), between_c[max_between]/length_between))\n",
    "print(\"Min betweenness: %d %s %s | %.2f percent of all pathes\" % (between_c[min_between], min_between,airport_name_from_iata(filtered_european_airports, min_between), between_c[min_between]/length_between))\n",
    "print(\"Average betweenness: %.2f\" % (total_between/length_between))\n"
   ]
  },
  {
   "cell_type": "markdown",
   "metadata": {},
   "source": [
    "As we can see the Paris-Orly Airport is the most common intermediate airport, it was occured in 1094 pathes which makes up 23% of all pathes.\n",
    "Meanwhile Paris Beauvasi Tille Airport only occurs in 2 pathes.\n"
   ]
  },
  {
   "cell_type": "code",
   "execution_count": null,
   "metadata": {},
   "outputs": [
    {
     "name": "stdout",
     "output_type": "stream",
     "text": [
      "From EGC -> EBU :  ['EGC', 'PGX', 'ORY', 'BIA', 'EBU']\n",
      "From LRH -> PGF :  ['LRH', 'ORY', 'PGF']\n"
     ]
    }
   ],
   "source": [
    "# shortest pathes were used inside previous functions like closeness centrality\n",
    "# here is an example of Dijkstra's shortest path\n",
    "\n",
    "print('From %s -> %s : ' % ('EGC', 'EBU'), shortest_path.dijkstra(G, 'EGC', 'EBU', 'Distance'))\n",
    "print('From %s -> %s : ' % ('LRH', 'PGF'), shortest_path.dijkstra(G, 'LRH', 'PGF', 'Distance'))\n"
   ]
  },
  {
   "cell_type": "code",
   "execution_count": null,
   "metadata": {},
   "outputs": [],
   "source": []
  }
 ],
 "metadata": {
  "interpreter": {
   "hash": "b70cfb9d0a37b53fbe2721b3003f10b9a464a532f8637d5e8a9bee6cf3df3814"
  },
  "kernelspec": {
   "display_name": "Python 3.8.10 64-bit ('netalg': venv)",
   "name": "python3"
  },
  "language_info": {
   "codemirror_mode": {
    "name": "ipython",
    "version": 3
   },
   "file_extension": ".py",
   "mimetype": "text/x-python",
   "name": "python",
   "nbconvert_exporter": "python",
   "pygments_lexer": "ipython3",
   "version": "3.8.10"
  }
 },
 "nbformat": 4,
 "nbformat_minor": 2
}
