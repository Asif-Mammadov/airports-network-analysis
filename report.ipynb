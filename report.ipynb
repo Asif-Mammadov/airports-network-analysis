{
 "cells": [
  {
   "cell_type": "code",
   "execution_count": null,
   "metadata": {},
   "outputs": [],
   "source": [
    "# Network Algorithms Homework Project\n"
   ]
  },
  {
   "cell_type": "code",
   "execution_count": null,
   "metadata": {},
   "outputs": [],
   "source": [
    "import pandas as pd\n",
    "import networkx as nx\n",
    "import matplotlib.pyplot as plt\n",
    "import numpy as np\n",
    "from geopy import distance\n",
    "from geopy import Point\n",
    "from utils import *\n",
    "\n",
    "# pd.set_option(\"display.max_rows\", None, \"display.max_columns\", None)\n"
   ]
  },
  {
   "cell_type": "code",
   "execution_count": null,
   "metadata": {},
   "outputs": [],
   "source": [
    "# Obtain the data\n",
    "airports = pd.read_csv('airports.csv')\n",
    "routes = pd.read_csv('routes.csv')"
   ]
  },
  {
   "cell_type": "code",
   "execution_count": null,
   "metadata": {},
   "outputs": [],
   "source": [
    "# returns all the information about an airport by its IATA\n",
    "def airport_info(data_airports, iata):\n",
    "    return data_airports.loc[data_airports['IATA'] == iata]"
   ]
  },
  {
   "cell_type": "code",
   "execution_count": null,
   "metadata": {},
   "outputs": [],
   "source": [
    "def filter_na(df, column):\n",
    "    na_rows = df[column].str.len() < 3\n",
    "    return df[~na_rows]\n",
    "\n",
    "# Filter the N/A values in the data\n",
    "filtered_airports = filter_na(airports, \"IATA\")\n",
    "filtered_routes = filter_na(routes, 'Source airport ID')\n",
    "filtered_routes = filter_na(filtered_routes, 'Destination airport ID')\n",
    "\n",
    "# change the datatype in routes\n",
    "filtered_routes['Source airport ID'] = filtered_routes['Source airport ID'].astype('int64')\n",
    "filtered_routes['Destination airport ID'] = filtered_routes['Destination airport ID'].astype('int64')"
   ]
  },
  {
   "cell_type": "code",
   "execution_count": null,
   "metadata": {},
   "outputs": [],
   "source": [
    "def get_countries_of(region):\n",
    "    if (region == 'Europe'):\n",
    "        import requests\n",
    "        response = requests.get(\"https://restcountries.com/v3.1/region/europe\")\n",
    "        l = response.json()\n",
    "        europe = []\n",
    "        for i in range(len(l)):\n",
    "            europe.append(l[i]['name']['common'])\n",
    "        return europe\n",
    "    # future support for other regions\n",
    "\n",
    "def filter_to_europe(df, attr):\n",
    "    europe = get_countries_of('Europe')\n",
    "    return df[df[attr].isin(europe)]\n",
    "\n",
    "def filter_to_countries(df, countries):\n",
    "    return df[df['Country'].isin(countries)]\n",
    "\n",
    "# Choose only one region (europe in our example)\n",
    "filtered_european_airports = filter_to_europe(filtered_airports, 'Country')\n",
    "\n",
    "# Choose only one country (France in our example)\n",
    "filtered_some_airports = filter_to_countries(filtered_airports, ['France', 'Germany', 'United Kingdom'])\n"
   ]
  },
  {
   "cell_type": "code",
   "execution_count": null,
   "metadata": {},
   "outputs": [],
   "source": [
    "# Filter routes according to filtered airports\n",
    "airport_id = filtered_european_airports['Airport ID']\n",
    "filtered_european_routes = filtered_routes[filtered_routes['Source airport ID'].isin(airport_id) & filtered_routes['Destination airport ID'].isin(airport_id)]\n",
    "\n",
    "airport_id = filtered_some_airports['Airport ID']\n",
    "filtered_some_routes = filtered_routes[filtered_routes['Source airport ID'].isin(airport_id) & filtered_routes['Destination airport ID'].isin(airport_id)]"
   ]
  },
  {
   "cell_type": "code",
   "execution_count": null,
   "metadata": {},
   "outputs": [],
   "source": [
    "def get_coords(airport_id, airports):\n",
    "    airport = airports.loc[airports['Airport ID'] == airport_id]\n",
    "    return (airport['Latitude'], airport['Longitude'])"
   ]
  },
  {
   "cell_type": "code",
   "execution_count": null,
   "metadata": {},
   "outputs": [],
   "source": [
    "def add_coords_to_routes(routes, airports):\n",
    "    sources_latitude = []\n",
    "    sources_longitude = []\n",
    "    destinations_latitude = []\n",
    "    destinations_longitude = []\n",
    "\n",
    "    for ind in routes.index:\n",
    "        source_coords = get_coords(routes['Source airport ID'][ind], airports)\n",
    "        sources_latitude.append(source_coords[0].to_string().split(' ')[-1])\n",
    "        sources_longitude.append(source_coords[1].to_string().split(' ')[-1])\n",
    "\n",
    "        destination_coords = get_coords(routes['Destination airport ID'][ind], airports)\n",
    "        destinations_latitude.append(destination_coords[0].to_string().split(' ')[-1])\n",
    "        destinations_longitude.append(destination_coords[1].to_string().split(' ')[-1])\n",
    "    \n",
    "    routes['Source latitude'] = sources_latitude\n",
    "    routes['Source longitude'] = sources_longitude\n",
    "    routes['Destination latitude'] = destinations_latitude\n",
    "    routes['Destination longitude'] = destinations_longitude\n",
    "\n",
    "    return routes"
   ]
  },
  {
   "cell_type": "code",
   "execution_count": null,
   "metadata": {},
   "outputs": [],
   "source": [
    "# modified_routes = add_coords_to_routes(filtered_european_routes, filtered_european_airports)\n",
    "\n",
    "modified_some_routes = add_coords_to_routes(filtered_some_routes, filtered_some_airports)"
   ]
  },
  {
   "cell_type": "code",
   "execution_count": null,
   "metadata": {},
   "outputs": [],
   "source": [
    "def get_dists(routes):\n",
    "    return routes.apply(\n",
    "        lambda row:\n",
    "            distance.distance(\n",
    "                (row['Source latitude'], row['Source longitude']),\n",
    "                (row['Destination latitude'], row['Destination longitude'])\n",
    "            ).km,\n",
    "        axis = 1\n",
    "    )"
   ]
  },
  {
   "cell_type": "code",
   "execution_count": null,
   "metadata": {},
   "outputs": [],
   "source": [
    "# dist = get_dists(modified_routes)\n",
    "dist_some = get_dists(modified_some_routes)\n",
    "\n",
    "# array dist is an array of all the distances between sources and destinations that should be created and filled by Rustam\n",
    "# once it's filled a new data frame with the Source, Destination and Distance values will be created\n",
    "# distances = pd.Series(dist, name = 'Distance')\n",
    "distances_some = pd.Series(dist_some, name = 'Distance')\n",
    "# data = [filtered_european_routes['Source airport'].reset_index(drop=True),filtered_european_routes['Destination airport'].reset_index(drop=True), distances.reset_index(drop=True)]\n",
    "data_some = [filtered_some_routes['Source airport'].reset_index(drop=True),filtered_some_routes['Destination airport'].reset_index(drop=True), distances_some.reset_index(drop=True)]\n",
    "\n",
    "# new DataFrame only with the Source, Destination and Distance values\n",
    "# df = pd.DataFrame(data).T\n",
    "df_some = pd.DataFrame(data_some).T\n",
    "# print(df)"
   ]
  },
  {
   "cell_type": "code",
   "execution_count": null,
   "metadata": {},
   "outputs": [],
   "source": [
    "#Creating a graph from the filtered european routes\n",
    "# G = nx.from_pandas_edgelist(df, source='Source airport', target='Destination airport', edge_attr=True, create_using=nx.DiGraph)\n",
    "G = nx.from_pandas_edgelist(df_some, source='Source airport', target='Destination airport', edge_attr=True, create_using=nx.DiGraph)\n",
    "nx.draw(G, with_labels=True)\n",
    "# Network Density\n",
    "network_densit = network_density(G)\n",
    "print(\"Network Density = \", network_densit)\n",
    "\n",
    "# Network Diameter\n",
    "network_diamete = network_diameter(G, 'Distance')\n",
    "print(\"Network Diameter = \", network_diamete)\n",
    "\n",
    "# Network Average Path Length\n",
    "napl = network_average_path_length(G, 'Distance')\n",
    "print(\"Network Average Path Length = \", napl)\n",
    "\n",
    "# # Get all the paths in Graph\n",
    "# paths = get_all_pathes(G, 'Dist')\n",
    "# print(\"Paths: \", paths)\n",
    "\n",
    "#Closeness Centrality of Airport\n",
    "cc_CDG = closeness_centrality(G, 'CDG', 'Distance')\n",
    "cc_LHR = closeness_centrality(G, 'LHR', 'Dist')\n",
    "cc_FRA = closeness_centrality(G, 'FRA', 'Distance')\n",
    "\n",
    "print(\"Closeness Centrality of Charles de Gaulle Airport: \", cc_CDG)\n",
    "print(\"Closeness Centrality of Heathrow Airport: \", cc_LHR)\n",
    "print(\"Closeness Centrality of Frankfurt Airport: \", cc_FRA)\n",
    "\n",
    "\n",
    "degree_CDG = degree(G, 'CDG')\n",
    "inflow_CDG = degree_inflow(G, 'CDG')\n",
    "outflow_CDG = degree_outflow(G, 'CDG')\n",
    "\n",
    "print(\"Degree of Charles de Gaulle Airport: \", degree_CDG)\n",
    "print(\"Inflow Degree of Charles de Gaulle Airport: \", inflow_CDG)\n",
    "print(\"Outflow Degree of Charles de Gaulle Airport: \", outflow_CDG)\n",
    "\n",
    "degree_LHR = degree(G, 'LHR')\n",
    "inflow_LHR = degree_inflow(G, 'LHR')\n",
    "outflow_LHR = degree_outflow(G, 'LHR')\n",
    "\n",
    "print(\"Degree of Heathrow Airport: \", degree_LHR)\n",
    "print(\"Inflow Degree of Heathrow Airport: \", inflow_LHR)\n",
    "print(\"Outflow Degree of Heathrow Airport: \", outflow_LHR)\n",
    "\n",
    "degree_FRA = degree(G, 'FRA')\n",
    "inflow_FRA = degree_inflow(G, 'FRA')\n",
    "outflow_FRA = degree_outflow(G, 'FRA')\n",
    "\n",
    "print(\"Degree of Frankfurt Airport: \", degree_FRA)\n",
    "print(\"Inflow Degree of Frankfurt Airport: \", inflow_FRA)\n",
    "print(\"Outflow Degree of Frankfurt Airport: \", outflow_FRA)\n",
    "\n",
    "Charles_Frankfurt = get_path(G, 'CDG', 'FRA' , 'Distance')\n",
    "Charles_Hamburg = get_path(G, 'CDG', 'HAM', 'Distance')\n",
    "Frankfurt_Heathrow = get_path(G, 'FRA', 'LHR', 'Dist')\n",
    "\n",
    "print(\"Path CDG-->FRA \", Charles_Frankfurt)\n",
    "# print(\"Path CDG-->HAM \", Charles_Hamburg)\n",
    "print(\"Path FRA-->LHR \", Frankfurt_Heathrow)\n",
    "\n"
   ]
  },
  {
   "cell_type": "code",
   "execution_count": null,
   "metadata": {},
   "outputs": [],
   "source": [
    "\n",
    "\n",
    "# # array dist is an array of all the distances between sources and destinations that should be created and filled by Rustam\n",
    "# # once it's filled a new data frame with the Source, Destination and Distance values will be created\n",
    "# distances = pd.Series(dist, name = 'Distance')\n",
    "# data = [filtered_european_routes['Source airport'].reset_index(drop=True),filtered_european_routes['Destination airport'].reset_index(drop=True), distances.reset_index(drop=True)]\n",
    "\n",
    "# # new DataFrame only with the Source, Destination and Distance values\n",
    "# df = pd.DataFrame(data).T\n",
    "# print(df)"
   ]
  },
  {
   "cell_type": "code",
   "execution_count": null,
   "metadata": {},
   "outputs": [],
   "source": []
  }
 ],
 "metadata": {
  "interpreter": {
   "hash": "b70cfb9d0a37b53fbe2721b3003f10b9a464a532f8637d5e8a9bee6cf3df3814"
  },
  "kernelspec": {
   "display_name": "Python 3",
   "language": "python",
   "name": "python3"
  },
  "language_info": {
   "codemirror_mode": {
    "name": "ipython",
    "version": 3
   },
   "file_extension": ".py",
   "mimetype": "text/x-python",
   "name": "python",
   "nbconvert_exporter": "python",
   "pygments_lexer": "ipython3",
   "version": "3.8.10"
  }
 },
 "nbformat": 4,
 "nbformat_minor": 2
}
