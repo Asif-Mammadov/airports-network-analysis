{
 "cells": [
  {
   "cell_type": "code",
   "execution_count": 149,
   "metadata": {},
   "outputs": [],
   "source": [
    "# Network Algorithms Homework Project\n"
   ]
  },
  {
   "cell_type": "code",
   "execution_count": 150,
   "metadata": {},
   "outputs": [],
   "source": [
    "import pandas as pd\n",
    "import networkx as nx\n",
    "import matplotlib.pyplot as plt\n",
    "import numpy as np\n",
    "from geopy import distance\n",
    "from geopy import Point\n",
    "from utils import *\n",
    "\n",
    "# pd.set_option(\"display.max_rows\", None, \"display.max_columns\", None)\n"
   ]
  },
  {
   "cell_type": "code",
   "execution_count": 151,
   "metadata": {},
   "outputs": [],
   "source": [
    "# Obtain the data\n",
    "airports = pd.read_csv('airports.csv')\n",
    "routes = pd.read_csv('routes.csv')"
   ]
  },
  {
   "cell_type": "code",
   "execution_count": 152,
   "metadata": {},
   "outputs": [],
   "source": [
    "# returns all the information about an airport by its IATA\n",
    "def airport_info(data_airports, iata):\n",
    "    return data_airports.loc[data_airports['IATA'] == iata]"
   ]
  },
  {
   "cell_type": "code",
   "execution_count": 153,
   "metadata": {},
   "outputs": [],
   "source": [
    "def filter_na(df, column):\n",
    "    na_rows = df[column].str.len() < 3\n",
    "    return df[~na_rows]\n",
    "\n",
    "# Filter the N/A values in the data\n",
    "filtered_airports = filter_na(airports, \"IATA\")\n",
    "filtered_routes = filter_na(routes, 'Source airport ID')\n",
    "filtered_routes = filter_na(filtered_routes, 'Destination airport ID')\n",
    "\n",
    "# change the datatype in routes\n",
    "filtered_routes['Source airport ID'] = filtered_routes['Source airport ID'].astype('int64')\n",
    "filtered_routes['Destination airport ID'] = filtered_routes['Destination airport ID'].astype('int64')"
   ]
  },
  {
   "cell_type": "code",
   "execution_count": 154,
   "metadata": {},
   "outputs": [],
   "source": [
    "def get_countries_of(region):\n",
    "    if (region == 'Europe'):\n",
    "        import requests\n",
    "        response = requests.get(\"https://restcountries.com/v3.1/region/europe\")\n",
    "        l = response.json()\n",
    "        europe = []\n",
    "        for i in range(len(l)):\n",
    "            europe.append(l[i]['name']['common'])\n",
    "        return europe\n",
    "    # future support for other regions\n",
    "\n",
    "def filter_to_europe(df, attr):\n",
    "    europe = get_countries_of('Europe')\n",
    "    return df[df[attr].isin(europe)]\n",
    "\n",
    "# Choose only one region (europe in our example)\n",
    "filtered_european_airports = filter_to_europe(filtered_airports, 'Country')"
   ]
  },
  {
   "cell_type": "code",
   "execution_count": 155,
   "metadata": {},
   "outputs": [],
   "source": [
    "# Filter routes according to filtered airports\n",
    "airport_id = filtered_european_airports['Airport ID']\n",
    "filtered_european_routes = filtered_routes[filtered_routes['Source airport ID'].isin(airport_id) & filtered_routes['Destination airport ID'].isin(airport_id)]"
   ]
  },
  {
   "cell_type": "code",
   "execution_count": 156,
   "metadata": {},
   "outputs": [],
   "source": [
    "def get_coords(airport_id, airports):\n",
    "    airport = airports.loc[airports['Airport ID'] == airport_id]\n",
    "    return (airport['Latitude'], airport['Longitude'])"
   ]
  },
  {
   "cell_type": "code",
   "execution_count": 157,
   "metadata": {},
   "outputs": [],
   "source": [
    "def add_coords_to_routes(routes, airports):\n",
    "    sources_latitude = []\n",
    "    sources_longitude = []\n",
    "    destinations_latitude = []\n",
    "    destinations_longitude = []\n",
    "\n",
    "    for ind in routes.index:\n",
    "        source_coords = get_coords(routes['Source airport ID'][ind], airports)\n",
    "        sources_latitude.append(source_coords[0].to_string().split(' ')[-1])\n",
    "        sources_longitude.append(source_coords[1].to_string().split(' ')[-1])\n",
    "\n",
    "        destination_coords = get_coords(routes['Destination airport ID'][ind], airports)\n",
    "        destinations_latitude.append(destination_coords[0].to_string().split(' ')[-1])\n",
    "        destinations_longitude.append(destination_coords[1].to_string().split(' ')[-1])\n",
    "    \n",
    "    routes['Source latitude'] = sources_latitude\n",
    "    routes['Source longitude'] = sources_longitude\n",
    "    routes['Destination latitude'] = destinations_latitude\n",
    "    routes['Destination longitude'] = destinations_longitude\n",
    "\n",
    "    return routes"
   ]
  },
  {
   "cell_type": "code",
   "execution_count": 158,
   "metadata": {},
   "outputs": [],
   "source": [
    "modified_routes = add_coords_to_routes(filtered_european_routes, filtered_european_airports)\n",
    "# print(modified_routes.head)"
   ]
  },
  {
   "cell_type": "code",
   "execution_count": 159,
   "metadata": {},
   "outputs": [],
   "source": [
    "def get_dists(routes):\n",
    "    return routes.apply(\n",
    "        lambda row:\n",
    "            distance.distance(\n",
    "                (row['Source latitude'], row['Source longitude']),\n",
    "                (row['Destination latitude'], row['Destination longitude'])\n",
    "            ).km,\n",
    "        axis = 1\n",
    "    )"
   ]
  },
  {
   "cell_type": "code",
   "execution_count": 160,
   "metadata": {},
   "outputs": [
    {
     "output_type": "stream",
     "name": "stdout",
     "text": [
      "      Source airport Destination airport     Distance\n0                AER                 KZN  1507.989671\n1                ASF                 KZN  1040.943243\n2                ASF                 MRV   449.036643\n3                CEK                 KZN   773.126226\n4                CEK                 OVB  1343.161093\n...              ...                 ...          ...\n16372            ORY                 FNC  2391.848773\n16373            ORY                 LIS  1439.045374\n16374            ORY                 OPO  1202.317838\n16375            ORY                 VKO  2476.274933\n16376            VKO                 ORY  2476.274933\n\n[16377 rows x 3 columns]\n"
     ]
    }
   ],
   "source": [
    "dist = get_dists(modified_routes)\n",
    "\n",
    "# df = modified_routes[['Source airport','Destination airport']]\n",
    "# df['Dist'] = dist\n",
    "\n",
    "# array dist is an array of all the distances between sources and destinations that should be created and filled by Rustam\n",
    "# once it's filled a new data frame with the Source, Destination and Distance values will be created\n",
    "distances = pd.Series(dist, name = 'Distance')\n",
    "data = [filtered_european_routes['Source airport'].reset_index(drop=True),filtered_european_routes['Destination airport'].reset_index(drop=True), distances.reset_index(drop=True)]\n",
    "\n",
    "# new DataFrame only with the Source, Destination and Distance values\n",
    "df = pd.DataFrame(data).T\n",
    "# print(df)"
   ]
  },
  {
   "cell_type": "code",
   "execution_count": 148,
   "metadata": {},
   "outputs": [
    {
     "output_type": "error",
     "ename": "SyntaxError",
     "evalue": "invalid syntax (<ipython-input-148-b89c614b5375>, line 54)",
     "traceback": [
      "\u001b[0;36m  File \u001b[0;32m\"<ipython-input-148-b89c614b5375>\"\u001b[0;36m, line \u001b[0;32m54\u001b[0m\n\u001b[0;31m    Charles_Frankfurt = get_path(G, 'CDG', , weight)\u001b[0m\n\u001b[0m                                           ^\u001b[0m\n\u001b[0;31mSyntaxError\u001b[0m\u001b[0;31m:\u001b[0m invalid syntax\n"
     ]
    }
   ],
   "source": [
    "#Creating a graph from the filtered european routes\n",
    "G = nx.from_pandas_edgelist(df, source='Source airport', target='Destination airport', edge_attr=True, create_using=nx.DiGraph)\n",
    "\n",
    "# Network Density\n",
    "network_density = network_density(G)\n",
    "print(\"Network Density = \", network_density)\n",
    "\n",
    "# Network Diameter\n",
    "netwirk_diameter = network_diameter(G, 'Dist')\n",
    "print(\"Network Diameter = \", network_density)\n",
    "\n",
    "# Network Average Path Length\n",
    "napl = network_average_path_length(G, 'Dist')\n",
    "print(\"Network Average Path Length = \", napl)\n",
    "\n",
    "# Get all the paths in Graph\n",
    "paths = get_all_pathes(G, 'Dist')\n",
    "print(\"Paths: \", paths)\n",
    "\n",
    "#Closeness Centrality of Airport\n",
    "cc_CDG = closeness_centrality(G, 'CDG', 'Dist')\n",
    "cc_LHR = closeness_centrality(G, 'LHR', 'Dist')\n",
    "cc_FRA = closeness_centrality(G, 'FRA', 'Dist')\n",
    "\n",
    "print(\"Closeness Centrality of Charles de Gaulle Airport: \", cc_CDG)\n",
    "print(\"Closeness Centrality of Heathrow Airport: \", cc_LHR)\n",
    "print(\"Closeness Centrality of Frankfurt Airport: \", cc_LHR)\n",
    "\n",
    "\n",
    "degree_CDG = degree(G, 'CDG')\n",
    "inflow_CDG = degree_inflow(G, 'CDG')\n",
    "outflow_CDG = degree_outflow(G, 'CDG')\n",
    "\n",
    "print(\"Degree of Charles de Gaulle Airport: \", degree_CDG)\n",
    "print(\"Inflow Degree of Charles de Gaulle Airport: \", inflow_CDG)\n",
    "print(\"Outflow Degree of Charles de Gaulle Airport: \", outflow_CDG)\n",
    "\n",
    "degree_LHR = degree(G, 'LHR')\n",
    "inflow_LHR = degree_inflow(G, 'LHR')\n",
    "outflow_LHR = degree_outflow(G, 'LHR')\n",
    "\n",
    "print(\"Degree of Heathrow Airport: \", degree_LHR)\n",
    "print(\"Inflow Degree of Heathrow Airport: \", inflow_LHR)\n",
    "print(\"Outflow Degree of Heathrow Airport: \", outflow_LHR)\n",
    "\n",
    "degree_FRA = degree(G, 'FRA')\n",
    "inflow_FRA = degree_inflow(G, 'FRA')\n",
    "outflow_FRA = degree_outflow(G, 'FRA')\n",
    "\n",
    "print(\"Degree of Frankfurt Airport: \", degree_FRA)\n",
    "print(\"Inflow Degree of Frankfurt Airport: \", inflow_FRA)\n",
    "print(\"Outflow Degree of Frankfurt Airport: \", outflow_FRA)\n",
    "\n",
    "Charles_Frankfurt = get_path(G, 'CDG', 'FRA' , 'Dist')\n",
    "Frankfurt_Heathrow = get_path(G, 'FRA', 'LHR', 'Dist')\n",
    "\n",
    "print(\"Path CDG-->FRA \", Charles_Frankfurt)\n",
    "print(\"Path FRA-->LHR \", Frankfurt_Heathrow)\n",
    "\n"
   ]
  },
  {
   "cell_type": "code",
   "execution_count": 122,
   "metadata": {},
   "outputs": [
    {
     "output_type": "stream",
     "name": "stdout",
     "text": [
      "      Source airport Destination airport     Distance\n0                AER                 KZN  1507.989671\n1                ASF                 KZN  1040.943243\n2                ASF                 MRV   449.036643\n3                CEK                 KZN   773.126226\n4                CEK                 OVB  1343.161093\n...              ...                 ...          ...\n16372            ORY                 FNC  2391.848773\n16373            ORY                 LIS  1439.045374\n16374            ORY                 OPO  1202.317838\n16375            ORY                 VKO  2476.274933\n16376            VKO                 ORY  2476.274933\n\n[16377 rows x 3 columns]\n"
     ]
    }
   ],
   "source": [
    "\n",
    "\n",
    "# array dist is an array of all the distances between sources and destinations that should be created and filled by Rustam\n",
    "# once it's filled a new data frame with the Source, Destination and Distance values will be created\n",
    "distances = pd.Series(dist, name = 'Distance')\n",
    "data = [filtered_european_routes['Source airport'].reset_index(drop=True),filtered_european_routes['Destination airport'].reset_index(drop=True), distances.reset_index(drop=True)]\n",
    "\n",
    "# new DataFrame only with the Source, Destination and Distance values\n",
    "df = pd.DataFrame(data).T\n",
    "print(df)"
   ]
  },
  {
   "cell_type": "code",
   "execution_count": null,
   "metadata": {},
   "outputs": [],
   "source": []
  }
 ],
 "metadata": {
  "interpreter": {
   "hash": "b70cfb9d0a37b53fbe2721b3003f10b9a464a532f8637d5e8a9bee6cf3df3814"
  },
  "kernelspec": {
   "display_name": "Python 3",
   "name": "python3",
   "language": "python"
  },
  "language_info": {
   "codemirror_mode": {
    "name": "ipython",
    "version": 3
   },
   "file_extension": ".py",
   "mimetype": "text/x-python",
   "name": "python",
   "nbconvert_exporter": "python",
   "pygments_lexer": "ipython3",
   "version": "3.8.10-final"
  }
 },
 "nbformat": 4,
 "nbformat_minor": 2
}