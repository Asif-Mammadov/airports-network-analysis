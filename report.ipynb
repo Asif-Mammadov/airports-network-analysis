{
 "cells": [
  {
   "cell_type": "code",
   "execution_count": null,
   "metadata": {},
   "outputs": [],
   "source": [
    "# Network Algorithms Homework Project"
   ]
  },
  {
   "cell_type": "code",
   "execution_count": null,
   "metadata": {},
   "outputs": [],
   "source": [
    "import pandas as pd\n",
    "import networkx as nx\n",
    "import matplotlib.pyplot as plt\n",
    "\n",
    "# returns all the information about an airport by its IATA\n",
    "def airport_info(data_airports, iata):\n",
    "    return data_airports.loc[data_airports['IATA'] == iata]\n",
    "\n",
    "# Raw DataFrame to be cleaned  \n",
    "data_airports = pd.read_csv('airports.csv')\n",
    "data_routes = pd.read_csv('routes.csv')\n",
    "\n",
    "# to display all the columns\n",
    "# pd.set_option('display.max_columns', None)\n",
    "\n",
    "# for checking\n",
    "print(data_airports.head())\n",
    "print(data_routes.head())\n",
    "\n",
    "# for checking\n",
    "print(airport_info(data_airports,'GYD'))\n",
    "print(airport_info(data_airports,'HEL'))\n",
    "print(airport_info(data_airports,'NRT'))\n",
    "\n",
    "# array dist is an array of all the distances between sources and destinations that should be created and filled by Rustam\n",
    "# once it's filled a new data frame with the Source, Destination and Distance values will be created\n",
    "dist = []\n",
    "data = [data_routes['Source airport'],data_routes['Destination airport'],dist]\n",
    "\n",
    "# new DataFrame only with the Source, Destination and Distance values\n",
    "df = pd.DataFrame(data, columns = ['Source', 'Dest', 'Dist'])"
   ]
  },
  {
   "cell_type": "code",
   "execution_count": null,
   "metadata": {},
   "outputs": [],
   "source": []
  }
 ],
 "metadata": {
  "interpreter": {
   "hash": "b70cfb9d0a37b53fbe2721b3003f10b9a464a532f8637d5e8a9bee6cf3df3814"
  },
  "kernelspec": {
   "display_name": "Python 3.8.10 64-bit ('netalg': venv)",
   "name": "python3"
  },
  "language_info": {
   "name": "python",
   "version": "3.8.10"
  },
  "orig_nbformat": 4
 },
 "nbformat": 4,
 "nbformat_minor": 2
}
