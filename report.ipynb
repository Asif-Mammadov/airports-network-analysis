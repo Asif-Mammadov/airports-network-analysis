{
 "cells": [
  {
   "cell_type": "code",
   "execution_count": null,
   "metadata": {},
   "outputs": [],
   "source": [
    "# Network Algorithms Homework Project\n"
   ]
  },
  {
   "cell_type": "code",
   "execution_count": null,
   "metadata": {},
   "outputs": [],
   "source": [
    "import pandas as pd\n",
    "import networkx as nx\n",
    "import matplotlib.pyplot as plt\n",
    "import numpy as np\n",
    "from geopy import distance\n",
    "from geopy import Point\n",
    "\n",
    "# pd.set_option(\"display.max_rows\", None, \"display.max_columns\", None)\n"
   ]
  },
  {
   "cell_type": "code",
   "execution_count": null,
   "metadata": {},
   "outputs": [],
   "source": [
    "# Obtain the data\n",
    "airports = pd.read_csv('airports.csv')\n",
    "routes = pd.read_csv('routes.csv')"
   ]
  },
  {
   "cell_type": "code",
   "execution_count": null,
   "metadata": {},
   "outputs": [],
   "source": [
    "def filter_na(df, column):\n",
    "    na_rows = df[column].str.len() < 3\n",
    "    return df[~na_rows]\n",
    "\n",
    "# Filter the N/A values in the data\n",
    "filtered_airports = filter_na(airports, \"IATA\")\n",
    "filtered_routes = filter_na(routes, 'Source airport ID')\n",
    "filtered_routes = filter_na(filtered_routes, 'Destination airport ID')\n",
    "\n",
    "# change the datatype in routes\n",
    "filtered_routes['Source airport ID'] = filtered_routes['Source airport ID'].astype('int64')\n",
    "filtered_routes['Destination airport ID'] = filtered_routes['Destination airport ID'].astype('int64')"
   ]
  },
  {
   "cell_type": "code",
   "execution_count": null,
   "metadata": {},
   "outputs": [],
   "source": [
    "def get_countries_of(region):\n",
    "    if (region == 'Europe'):\n",
    "        import requests\n",
    "        response = requests.get(\"https://restcountries.com/v3.1/region/europe\")\n",
    "        l = response.json()\n",
    "        europe = []\n",
    "        for i in range(len(l)):\n",
    "            europe.append(l[i]['name']['common'])\n",
    "        return europe\n",
    "    # future support for other regions\n",
    "\n",
    "def filter_to_europe(df, attr):\n",
    "    europe = get_countries_of('Europe')\n",
    "    return df[df[attr].isin(europe)]\n",
    "\n",
    "# Choose only one region (europe in our example)\n",
    "filtered_european_airports = filter_to_europe(filtered_airports, 'Country')"
   ]
  },
  {
   "cell_type": "code",
   "execution_count": null,
   "metadata": {},
   "outputs": [],
   "source": [
    "# Filter routes according to filtered airports\n",
    "airport_id = filtered_european_airports['Airport ID']\n",
    "filtered_european_routes = filtered_routes[filtered_routes['Source airport ID'].isin(airport_id) & filtered_routes['Destination airport ID'].isin(airport_id)]"
   ]
  },
  {
   "cell_type": "code",
   "execution_count": null,
   "metadata": {},
   "outputs": [],
   "source": [
    "def get_coords(airport_id, airports):\n",
    "    airport = airports.loc[airports['Airport ID'] == airport_id]\n",
    "    return (airport['Latitude'], airport['Longitude'])"
   ]
  },
  {
   "cell_type": "code",
   "execution_count": null,
   "metadata": {},
   "outputs": [],
   "source": [
    "def add_coords_to_routes(routes, airports):\n",
    "    sources_latitude = []\n",
    "    sources_longitude = []\n",
    "    destinations_latitude = []\n",
    "    destinations_longitude = []\n",
    "\n",
    "    for ind in routes.index:\n",
    "        source_coords = get_coords(routes['Source airport ID'][ind], airports)\n",
    "        sources_latitude.append(source_coords[0].to_string().split(' ')[-1])\n",
    "        sources_longitude.append(source_coords[1].to_string().split(' ')[-1])\n",
    "\n",
    "        destination_coords = get_coords(routes['Destination airport ID'][ind], airports)\n",
    "        destinations_latitude.append(destination_coords[0].to_string().split(' ')[-1])\n",
    "        destinations_longitude.append(destination_coords[1].to_string().split(' ')[-1])\n",
    "    \n",
    "    routes['Source latitude'] = sources_latitude\n",
    "    routes['Source longitude'] = sources_longitude\n",
    "    routes['Destination latitude'] = destinations_latitude\n",
    "    routes['Destination longitude'] = destinations_longitude\n",
    "\n",
    "    return routes"
   ]
  },
  {
   "cell_type": "code",
   "execution_count": null,
   "metadata": {},
   "outputs": [],
   "source": [
    "modified_routes = add_coords_to_routes(filtered_european_routes, filtered_european_airports)"
   ]
  },
  {
   "cell_type": "code",
   "execution_count": null,
   "metadata": {},
   "outputs": [],
   "source": [
    "def get_dists(routes):\n",
    "    return routes.apply(\n",
    "        lambda row:\n",
    "            distance.distance(\n",
    "                (row['Source latitude'], row['Source longitude']),\n",
    "                (row['Destination latitude'], row['Destination longitude'])\n",
    "            ).km,\n",
    "        axis = 1\n",
    "    )"
   ]
  },
  {
   "cell_type": "code",
   "execution_count": null,
   "metadata": {},
   "outputs": [],
   "source": [
    "dist = get_dists(modified_routes)"
   ]
  },
  {
   "cell_type": "code",
   "execution_count": null,
   "metadata": {},
   "outputs": [],
   "source": []
  },
  {
   "cell_type": "code",
   "execution_count": null,
   "metadata": {},
   "outputs": [],
   "source": [
    "\n",
    "# returns all the information about an airport by its IATA\n",
    "def airport_info(data_airports, iata):\n",
    "    return data_airports.loc[data_airports['IATA'] == iata]\n",
    "\n",
    "# to display all the columns\n",
    "# pd.set_option('display.max_columns', None)-\n",
    "\n",
    "# array dist is an array of all the distances between sources and destinations that should be created and filled by Rustam\n",
    "# once it's filled a new data frame with the Source, Destination and Distance values will be created\n",
    "distances = pd.Series(dist, name = 'Distance')\n",
    "data = [filtered_european_routes['Source airport'].reset_index(drop=True),filtered_european_routes['Destination airport'].reset_index(drop=True), distances.reset_index(drop=True)]\n",
    "\n",
    "# new DataFrame only with the Source, Destination and Distance values\n",
    "df = pd.DataFrame(data).T\n",
    "print(df)"
   ]
  },
  {
   "cell_type": "code",
   "execution_count": null,
   "metadata": {},
   "outputs": [],
   "source": []
  }
 ],
 "metadata": {
  "interpreter": {
   "hash": "b70cfb9d0a37b53fbe2721b3003f10b9a464a532f8637d5e8a9bee6cf3df3814"
  },
  "kernelspec": {
   "display_name": "Python 3.8.10 64-bit ('netalg': venv)",
   "name": "python3"
  },
  "language_info": {
   "codemirror_mode": {
    "name": "ipython",
    "version": 3
   },
   "file_extension": ".py",
   "mimetype": "text/x-python",
   "name": "python",
   "nbconvert_exporter": "python",
   "pygments_lexer": "ipython3",
   "version": "3.8.10"
  }
 },
 "nbformat": 4,
 "nbformat_minor": 2
}
